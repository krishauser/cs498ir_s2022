{
 "cells": [
  {
   "cell_type": "markdown",
   "metadata": {},
   "source": [
    "# MP 3: Grasp Planning\n",
    "\n",
    "**Due date**: March 7, 2022 at 9:45am.\n",
    "\n",
    "**Instructions**: Read and complete the problems below. In this assignment, you should be switched over to a local install.  As a backup, you may run code through this notebook via Jupyter Notebook or via Binder, but be aware that you will be editing external .py files, and saving your progress is not as simple as clicking \"Save notebook state\" in this window.\n",
    "\n",
    "Your code for Problem X will go inside `problemX.py`.  For a local install, just run `python problemX.py` and use the actions in the menu to test your code. For Jupyter / Binder, run the cells at the end of this notebook.\n",
    "\n",
    "To submit your assignment, perform the following:\n",
    "\n",
    "1. Double-check that your programs run without error.\n",
    "2. Send this file, all of your .py files, .json files, and any other files you used in your programs on Moodle [http:/learn.illinois.edu](http:/learn.illinois.edu).\n",
    "3. If you are using any external libraries other than the ones that are indicated during the installation process, include a README file indicating which library and version you are using.  To be on the safe side, you should include a backup procedure until the graders verify that they are able to support use of that library."
   ]
  },
  {
   "cell_type": "markdown",
   "metadata": {},
   "source": [
    "## Problem 1: Grasp approach planning\n",
    "\n",
    "A. Write a subroutine that will generate keyframes for an approach motion for the gripper to attain a grasp. The gripper should start at a finger-open configuration, move forward along its local `primaryAxis` by `distance` units, and then close its gripper so its fingers are at width `grasp.finger_width`. The return value is a movement of the gripper's base link and its finger links stored separately.  The finger configuration at varying opening amounts can be obtained using `GripperInfo.partwayOpenConfig(u)` with `u` in the range $[0,1]$.\n",
    "\n",
    "The finger trajectory will be returned as a `Trajectory` and the gripper base trajectory will be an `SE3Trajectory` classes. The trajectories consist of a sequence of times `[t0,...,tn]` and  milestones (keyframes) `[m0,...,mn]`, which are then linearly interpolated for you using the `eval()` method.  SE3Trajectory differs from Trajectory in that the interpolation is done in SE3, so that if you do perform rotations during the approach motion, they will be interpolated properly with geodesics. Create it using the constructor `SE3Trajectory(times,Ts)` where `Ts` is a list of klampt se3 objects `[T0,...,Tn]`.\n",
    "\n",
    "If you want to visually debug your outputs or manually craft a trajectory, you may uncomment out the block beginning with `resource.edit`.  (This is only available on a local install, and may not work properly on Mac)\n",
    "\n",
    "*Note*: in this assignment we will be using AntipodalGrasp \"databases\" which are stored on disk in JSON format. A database for the hammer object is given to you. If you would like, you can reuse your code from MP2 to generate new grasp databases, making sure to use the code in `antipodal_grasp.py` to save them in the proper format.  Note that we have added the `score` attribute which should be used to store the score.  Code to do this, if you're running in `MP2.ipynb`, is as follows.\n",
    "\n",
    "```\n",
    "if sys.path[-1] != \"../MP3\":\n",
    "    sys.path.append(\"../MP3\")\n",
    "import antipodal_grasp\n",
    "\n",
    "grasps = antipodal_grasp_sample_surface(known_grippers.robotiq_140,obj,50,2000)\n",
    "grasps_to_save = []\n",
    "for g,s in grasps:\n",
    "    ag = antipodal_grasp.AntipodalGrasp(g.center,g.axis)\n",
    "    ag.finger_width = g.finger_width\n",
    "    ag.approach = g.approach\n",
    "    ag.contact1 = g.contact1\n",
    "    ag.contact2 = g.contact2\n",
    "    ag.score = s\n",
    "    grasps_to_save.append(ag)\n",
    "antipodal_grasp.save_antipodal_grasp_database(grasps_to_save,\"048_hammer.json\")\n",
    "```\n"
   ]
  },
  {
   "cell_type": "markdown",
   "metadata": {},
   "source": [
    "## Problem 2: Inverse kinematics\n",
    "\n",
    "In this problem, you will find a configuration for a robot that meets a grasp by solving an inverse kinematics problem. We will use the TRINA robot and the gripper on its left arm for these problems. \n",
    "\n",
    "A. The `Sample Transform + IK` function will pick a transform at random, and then call your `solve_robot_ik` function. Implement an inverse kinematics solver using the [klampt.model.ik](http://motion.cs.illinois.edu/software/klampt/latest/pyklampt_docs/klampt.model.ik.html#module-klampt.model.ik) functions. You may also need to consult the [IKSolver](http://motion.cs.illinois.edu/software/klampt/latest/pyklampt_docs/klampt.robotsim.html?highlight=iksolver#klampt.IKSolver) docs and the [IK manual](http://motion.cs.illinois.edu/software/klampt/latest/pyklampt_docs/Manual-IK.html).  If the solver succeeds, the gripper will be colored green.  \n",
    "\n",
    "Make sure to configure the active degrees of freedom to avoid altering the robot's links 0-5.  The indices of the links of the left arm that should move are 11-16 (inclusive).\n",
    "\n",
    "B. Observe that many sampled transforms are not reached, either because the transform is unreachable, or the solver simply fell into a local minimum.  The \"sample-transform-then-IK\" approach fails to take into account that by freezing the transform, the first step causes possible failures in the second step.  As an alternative, you will implement a solver that directly captures the antipodal grasp's axis rotation constraint.  In `sample_grasp_ik`, create a solver that solves an IK problem with a hinge-type constraint. \n",
    "\n",
    "Don't forget to calculate the gripper link's transform as the second return value.\n",
    "\n",
    "**Written.** Which method is more efficient at generating successful grasping configurations?  Do you think that this will generally be the case? Why or why not? \n",
    "\n",
    "C. Create a new function `solve_grasp_ik` that only returns successfully if the resulting configuration is collision-free with respect to the robot and the object, only. (Ignore collisions between the object and the finger links, which are named `left_gripper:right_inner_finger_pad` and `left_gripper:left_inner_finger_pad`).  The `Geometry3D.collides` function and the `RobotModel.selfCollides` function will be helpful here.  \n",
    "\n",
    "Furthermore, implement a random-restart technique with 20 restarts to increase the likelihood of sampling a collision-free, IK-solving configuration.\n",
    "\n",
    "D. If the robot is asked to grasp an object in the presence of obstacles, it needs to perform more sophisticated reasoning about collisions, and possibly explore the use of different grasps.  In `solve_grasp_problem`, implement a grasp planner that checks amongst multiple grasps, and outputs a grasp and IK configuration such that the grasp has a relatively good (low) score and  such that the configuration is collision free with respect to the object and all obstacles (such as the table and box).\n",
    "\n",
    "**Written.** How long does the grasp solver take in practice? Describe how the following parameters would be expected to affect solution times:\n",
    "- the number of grasps in the database,\n",
    "- the number of IK solver iterations,\n",
    "- the number of restarts in the IK solver,\n",
    "- the location of the target object relative to the arm's workspace, and\n",
    "- the amount of clutter (obstacles) around the target object.\n"
   ]
  },
  {
   "cell_type": "markdown",
   "metadata": {},
   "source": [
    "## Problem 3: Motion planning\n",
    "\n",
    "Finally, we will look at how to combine the approach path, IK, and motion planning to produce a complete robot trajectory that is very likely to pick the object when executed.\n",
    "\n",
    "A. Implement a path planner that uses the [Klampt motion planning API](http://motion.cs.illinois.edu/software/klampt/latest/pyklampt_docs/Manual-Planning.html) in the `feasible_plan` function.  The \"standard\" API requires you to configure a [MotionPlan](http://motion.cs.illinois.edu/software/klampt/latest/pyklampt_docs/klampt.plan.cspace.html#klampt.plan.cspace.MotionPlan) object and then repeatedly call `MotionPlan.planMore()` until a desired termination criterion has been reached.\n",
    "\n",
    "During the setup phase, you will need to determine:\n",
    "* the active degrees of freedom\n",
    "* the relevant collision tests to perform\n",
    "* the edge collision checking resolution\n",
    "* the planner type\n",
    "* other planner parameters, in particular the connection radius.\n",
    "\n",
    "In your first implementation, use only the 6 degrees of freedom of the left arm; perform collision tests between every link and every other object; use a collision checking resolution of 0.01 (radians); use the SBL planner; and set the planner parameters perturbationRadius=0.5 and connectionThreshold=3.0.\n",
    "\n",
    "During the planning phase, you will need to control how many iterations to perform. In your implementation, run 1 iteration on each loop until 5 seconds have elapsed, or a plan has been found.  (Monitor the system time using the Python `time.time()` function)\n",
    "\n",
    "Every time you choose the \"Plan\" action, your function will be called to find a plan to the target, which is edited using the GUI.  Make sure to test your planner on both easy and hard queries.\n",
    "\n",
    "B. **4-credit section only**. Explore the use of optimizing motion planners. Replace `feasible_plan` with `optimizing_plan` and implement an optimizing planner.  SBL with shortcutting and/or restarts, RRT with shortcutting and/or restarts, Lazy-RRT*, or Lazy-PRM* are reasonable options.\n",
    "\n",
    "C. You will now integrate all these pieces together into a full grasp plan.  In `plan_grasping_motion`, you will 1) sample a collision-free grasp configuration, 2) determine the gripper approach trajectory, 3) determine the robot configuration at the start of the approach trajectory, using IK, 4) plan a collision-free path to the start of the approach, and 5) convert the gripper approach trajectory into a trajectory for the full robot.  Perform error checking to fail gracefully (i.e., return (None,None) ) when any piece of this procedure fails.\n",
    "\n",
    "*This is a fairly intricate procedure with many moving pieces, and there are many places where your code can go wrong.  Don't save this until the last minute!*\n",
    "\n",
    "**Written.** You might notice that the resulting path is quite suboptimal and is likely to twirl the end effector around, even if you are using `optimizing_plan` to plan your path. Explain why the structure of this 5-step procedure could be causing the problem. In a few sentences, sketch out a possible remedy to this problem (no need to implement it)."
   ]
  },
  {
   "cell_type": "markdown",
   "metadata": {},
   "source": [
    "## Jupyter cells for non-local installs"
   ]
  },
  {
   "cell_type": "code",
   "execution_count": 1,
   "metadata": {},
   "outputs": [],
   "source": [
    "%load_ext autoreload\n",
    "%autoreload 1\n",
    "from klampt import vis\n",
    "vis.init('IPython')\n",
    "closeup_viewport = closeup_viewport = {'up': {'z': 0, 'y': 1, 'x': 0}, 'target': {'z': 0, 'y': 0, 'x': 0}, 'near': 0.1, 'position': {'z': 1.0, 'y': 0.5, 'x': 0.0}, 'far': 1000}"
   ]
  },
  {
   "cell_type": "code",
   "execution_count": null,
   "metadata": {
    "scrolled": false
   },
   "outputs": [],
   "source": [
    "## Problem 1: \n",
    "%aimport problem1\n",
    "\n",
    "vis.createWindow()\n",
    "vis.resizeWindow(600,400)\n",
    "vis.setViewport(closeup_viewport)\n",
    "problem1.problem_1()"
   ]
  },
  {
   "cell_type": "code",
   "execution_count": null,
   "metadata": {
    "scrolled": false
   },
   "outputs": [],
   "source": [
    "## Problem 2 \n",
    "%aimport problem2\n",
    "\n",
    "vis.createWindow()\n",
    "vis.resizeWindow(600,400)\n",
    "problem2.problem_2()"
   ]
  },
  {
   "cell_type": "code",
   "execution_count": 2,
   "metadata": {
    "scrolled": false
   },
   "outputs": [
    {
     "data": {
      "application/vnd.jupyter.widget-view+json": {
       "model_id": "a90834de6c9449909ac72a1cf590ac5b",
       "version_major": 2,
       "version_minor": 0
      },
      "text/plain": [
       "KlamptWidgetAdaptor(height=400, rpc={'type': 'multiple', 'calls': [{'type': 'add_ghost', 'object': 'TRINA', 'p…"
      ]
     },
     "metadata": {},
     "output_type": "display_data"
    },
    {
     "data": {
      "application/vnd.jupyter.widget-view+json": {
       "model_id": "2ebf7f25e27e402ca8234ccec7a8617e",
       "version_major": 2,
       "version_minor": 0
      },
      "text/plain": [
       "HBox(children=(Button(description='Plan to target', layout=Layout(min_width='126px'), style=ButtonStyle()), Bu…"
      ]
     },
     "metadata": {},
     "output_type": "display_data"
    },
    {
     "data": {
      "text/html": [
       "<h3>qtgt</h3>"
      ],
      "text/plain": [
       "<IPython.core.display.HTML object>"
      ]
     },
     "metadata": {},
     "output_type": "display_data"
    },
    {
     "data": {
      "application/vnd.jupyter.widget-view+json": {
       "model_id": "c05effcc0ad846d199fc39164d902798",
       "version_major": 2,
       "version_minor": 0
      },
      "text/plain": [
       "VBox(children=(Dropdown(description='Link', options=('base0', 'base1', 'base2', 'base3', 'base4', 'base_link',…"
      ]
     },
     "metadata": {},
     "output_type": "display_data"
    },
    {
     "data": {
      "application/vnd.jupyter.widget-view+json": {
       "model_id": "db79822fc8f24aecbfb4a9ad0409e2a6",
       "version_major": 2,
       "version_minor": 0
      },
      "text/plain": [
       "Playback(children=(HBox(children=(Button(description='Play', icon='play', style=ButtonStyle(), tooltip='Start …"
      ]
     },
     "metadata": {},
     "output_type": "display_data"
    },
    {
     "name": "stdout",
     "output_type": "stream",
     "text": [
      "Planned path with 2 milestones, length 0.0\n",
      "Planned path with 2 milestones, length 1.339000000000001\n"
     ]
    }
   ],
   "source": [
    "## Problem 3.A or B\n",
    "%aimport problem3\n",
    "\n",
    "vis.createWindow()\n",
    "vis.resizeWindow(600,400)\n",
    "problem3.problem_3ab()"
   ]
  },
  {
   "cell_type": "code",
   "execution_count": null,
   "metadata": {},
   "outputs": [],
   "source": [
    "## Problem 3.C\n",
    "%aimport problem3\n",
    "\n",
    "vis.createWindow()\n",
    "vis.resizeWindow(600,400)\n",
    "problem3.problem_3ab()"
   ]
  },
  {
   "cell_type": "markdown",
   "metadata": {},
   "source": [
    "## Written answers\n",
    "\n",
    "### 2.B\n",
    "Place your answers to the written portion of 2.B here\n",
    "\n",
    "### 2.D\n",
    "Place your answers to the written portion of 2.D here\n",
    "\n",
    "### 3.C\n",
    "Place your answers to the written portion of 3.C here\n"
   ]
  },
  {
   "cell_type": "code",
   "execution_count": null,
   "metadata": {},
   "outputs": [],
   "source": []
  }
 ],
 "metadata": {
  "kernelspec": {
   "display_name": "Python 3",
   "language": "python",
   "name": "python3"
  },
  "language_info": {
   "codemirror_mode": {
    "name": "ipython",
    "version": 3
   },
   "file_extension": ".py",
   "mimetype": "text/x-python",
   "name": "python",
   "nbconvert_exporter": "python",
   "pygments_lexer": "ipython3",
   "version": "3.7.3"
  },
  "latex_envs": {
   "LaTeX_envs_menu_present": true,
   "autoclose": false,
   "autocomplete": false,
   "bibliofile": "biblio.bib",
   "cite_by": "apalike",
   "current_citInitial": 1,
   "eqLabelWithNumbers": true,
   "eqNumInitial": 1,
   "hotkeys": {
    "equation": "Ctrl-E",
    "itemize": "Ctrl-I"
   },
   "labels_anchors": false,
   "latex_user_defs": false,
   "report_style_numbering": false,
   "user_envs_cfg": false
  },
  "toc": {
   "base_numbering": 1,
   "nav_menu": {},
   "number_sections": true,
   "sideBar": true,
   "skip_h1_title": false,
   "title_cell": "Table of Contents",
   "title_sidebar": "Contents",
   "toc_cell": false,
   "toc_position": {},
   "toc_section_display": true,
   "toc_window_display": false
  }
 },
 "nbformat": 4,
 "nbformat_minor": 2
}
